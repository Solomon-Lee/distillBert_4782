{
  "nbformat": 4,
  "nbformat_minor": 0,
  "metadata": {
    "colab": {
      "provenance": [],
      "gpuType": "T4"
    },
    "kernelspec": {
      "name": "python3",
      "display_name": "Python 3"
    },
    "language_info": {
      "name": "python"
    },
    "accelerator": "GPU"
  },
  "cells": [
    {
      "cell_type": "code",
      "execution_count": 1,
      "metadata": {
        "colab": {
          "base_uri": "https://localhost:8080/"
        },
        "id": "Fphm0_XizxD4",
        "outputId": "894469e5-8f07-4a09-c957-e40e6d415398"
      },
      "outputs": [
        {
          "output_type": "stream",
          "name": "stdout",
          "text": [
            "Requirement already satisfied: transformers in /usr/local/lib/python3.10/dist-packages (4.51.3)\n",
            "Requirement already satisfied: datasets in /usr/local/lib/python3.10/dist-packages (3.5.0)\n",
            "Requirement already satisfied: torch in /usr/local/lib/python3.10/dist-packages (2.5.1+cu121)\n",
            "Requirement already satisfied: accelerate in /usr/local/lib/python3.10/dist-packages (1.2.1)\n",
            "Requirement already satisfied: tqdm in /usr/local/lib/python3.10/dist-packages (4.67.1)\n",
            "Requirement already satisfied: filelock in /usr/local/lib/python3.10/dist-packages (from transformers) (3.16.1)\n",
            "Requirement already satisfied: huggingface-hub<1.0,>=0.30.0 in /usr/local/lib/python3.10/dist-packages (from transformers) (0.30.2)\n",
            "Requirement already satisfied: numpy>=1.17 in /usr/local/lib/python3.10/dist-packages (from transformers) (1.26.4)\n",
            "Requirement already satisfied: packaging>=20.0 in /usr/local/lib/python3.10/dist-packages (from transformers) (24.2)\n",
            "Requirement already satisfied: pyyaml>=5.1 in /usr/local/lib/python3.10/dist-packages (from transformers) (6.0.2)\n",
            "Requirement already satisfied: regex!=2019.12.17 in /usr/local/lib/python3.10/dist-packages (from transformers) (2024.11.6)\n",
            "Requirement already satisfied: requests in /usr/local/lib/python3.10/dist-packages (from transformers) (2.32.3)\n",
            "Requirement already satisfied: tokenizers<0.22,>=0.21 in /usr/local/lib/python3.10/dist-packages (from transformers) (0.21.0)\n",
            "Requirement already satisfied: safetensors>=0.4.3 in /usr/local/lib/python3.10/dist-packages (from transformers) (0.4.5)\n",
            "Requirement already satisfied: pyarrow>=15.0.0 in /usr/local/lib/python3.10/dist-packages (from datasets) (17.0.0)\n",
            "Requirement already satisfied: dill<0.3.9,>=0.3.0 in /usr/local/lib/python3.10/dist-packages (from datasets) (0.3.8)\n",
            "Requirement already satisfied: pandas in /usr/local/lib/python3.10/dist-packages (from datasets) (2.2.2)\n",
            "Requirement already satisfied: xxhash in /usr/local/lib/python3.10/dist-packages (from datasets) (3.5.0)\n",
            "Requirement already satisfied: multiprocess<0.70.17 in /usr/local/lib/python3.10/dist-packages (from datasets) (0.70.16)\n",
            "Requirement already satisfied: fsspec<=2024.12.0,>=2023.1.0 in /usr/local/lib/python3.10/dist-packages (from fsspec[http]<=2024.12.0,>=2023.1.0->datasets) (2024.10.0)\n",
            "Requirement already satisfied: aiohttp in /usr/local/lib/python3.10/dist-packages (from datasets) (3.11.10)\n",
            "Requirement already satisfied: typing-extensions>=4.8.0 in /usr/local/lib/python3.10/dist-packages (from torch) (4.12.2)\n",
            "Requirement already satisfied: networkx in /usr/local/lib/python3.10/dist-packages (from torch) (3.4.2)\n",
            "Requirement already satisfied: jinja2 in /usr/local/lib/python3.10/dist-packages (from torch) (3.1.4)\n",
            "Requirement already satisfied: sympy==1.13.1 in /usr/local/lib/python3.10/dist-packages (from torch) (1.13.1)\n",
            "Requirement already satisfied: mpmath<1.4,>=1.1.0 in /usr/local/lib/python3.10/dist-packages (from sympy==1.13.1->torch) (1.3.0)\n",
            "Requirement already satisfied: psutil in /usr/local/lib/python3.10/dist-packages (from accelerate) (5.9.5)\n",
            "Requirement already satisfied: aiohappyeyeballs>=2.3.0 in /usr/local/lib/python3.10/dist-packages (from aiohttp->datasets) (2.4.4)\n",
            "Requirement already satisfied: aiosignal>=1.1.2 in /usr/local/lib/python3.10/dist-packages (from aiohttp->datasets) (1.3.2)\n",
            "Requirement already satisfied: async-timeout<6.0,>=4.0 in /usr/local/lib/python3.10/dist-packages (from aiohttp->datasets) (4.0.3)\n",
            "Requirement already satisfied: attrs>=17.3.0 in /usr/local/lib/python3.10/dist-packages (from aiohttp->datasets) (24.3.0)\n",
            "Requirement already satisfied: frozenlist>=1.1.1 in /usr/local/lib/python3.10/dist-packages (from aiohttp->datasets) (1.5.0)\n",
            "Requirement already satisfied: multidict<7.0,>=4.5 in /usr/local/lib/python3.10/dist-packages (from aiohttp->datasets) (6.1.0)\n",
            "Requirement already satisfied: propcache>=0.2.0 in /usr/local/lib/python3.10/dist-packages (from aiohttp->datasets) (0.2.1)\n",
            "Requirement already satisfied: yarl<2.0,>=1.17.0 in /usr/local/lib/python3.10/dist-packages (from aiohttp->datasets) (1.18.3)\n",
            "Requirement already satisfied: charset-normalizer<4,>=2 in /usr/local/lib/python3.10/dist-packages (from requests->transformers) (3.4.0)\n",
            "Requirement already satisfied: idna<4,>=2.5 in /usr/local/lib/python3.10/dist-packages (from requests->transformers) (3.10)\n",
            "Requirement already satisfied: urllib3<3,>=1.21.1 in /usr/local/lib/python3.10/dist-packages (from requests->transformers) (2.2.3)\n",
            "Requirement already satisfied: certifi>=2017.4.17 in /usr/local/lib/python3.10/dist-packages (from requests->transformers) (2024.12.14)\n",
            "Requirement already satisfied: MarkupSafe>=2.0 in /usr/local/lib/python3.10/dist-packages (from jinja2->torch) (3.0.2)\n",
            "Requirement already satisfied: python-dateutil>=2.8.2 in /usr/local/lib/python3.10/dist-packages (from pandas->datasets) (2.8.2)\n",
            "Requirement already satisfied: pytz>=2020.1 in /usr/local/lib/python3.10/dist-packages (from pandas->datasets) (2024.2)\n",
            "Requirement already satisfied: tzdata>=2022.7 in /usr/local/lib/python3.10/dist-packages (from pandas->datasets) (2024.2)\n",
            "Requirement already satisfied: six>=1.5 in /usr/local/lib/python3.10/dist-packages (from python-dateutil>=2.8.2->pandas->datasets) (1.17.0)\n"
          ]
        }
      ],
      "source": [
        "!pip install transformers datasets torch accelerate tqdm\n"
      ]
    },
    {
      "cell_type": "code",
      "source": [
        "import math\n",
        "import torch\n",
        "import torch.nn.functional as F\n",
        "from torch.utils.data import DataLoader\n",
        "from transformers import (BertForMaskedLM, BertConfig, AutoTokenizer,\n",
        "                          AdamW, get_linear_schedule_with_warmup,\n",
        "                          DataCollatorForLanguageModeling, AutoModelForMaskedLM)\n",
        "from datasets import load_dataset, concatenate_datasets\n",
        "from tqdm.notebook import tqdm\n"
      ],
      "metadata": {
        "id": "lE5E8svez2cJ"
      },
      "execution_count": null,
      "outputs": []
    },
    {
      "cell_type": "code",
      "source": [
        "# Load teacher (BERT-base) and define student architecture\n",
        "teacher = BertForMaskedLM.from_pretrained('bert-base-uncased')\n",
        "tokenizer = AutoTokenizer.from_pretrained('bert-base-uncased')\n",
        "# DistilBERT-style student config\n",
        "student_config = BertConfig(\n",
        "    vocab_size=teacher.config.vocab_size,              # same vocab\n",
        "    hidden_size=teacher.config.hidden_size,            # 768\n",
        "    num_hidden_layers=6,                               # half the layers\n",
        "    num_attention_heads=teacher.config.num_attention_heads,  # 12\n",
        "    intermediate_size=teacher.config.intermediate_size,      # 3072\n",
        "    hidden_dropout_prob=teacher.config.hidden_dropout_prob,\n",
        "    attention_probs_dropout_prob=teacher.config.attention_probs_dropout_prob,\n",
        "    max_position_embeddings=teacher.config.max_position_embeddings,\n",
        "    type_vocab_size=teacher.config.type_vocab_size,\n",
        "    add_pooling_layer=False        # skip the NSP pooling head, like DistilBERT\n",
        ")\n",
        "student = AutoModelForMaskedLM.from_config(student_config)\n"
      ],
      "metadata": {
        "colab": {
          "base_uri": "https://localhost:8080/"
        },
        "id": "2exPa85nz4SS",
        "outputId": "cb41367c-5927-4563-b347-485ef6dd11db"
      },
      "execution_count": null,
      "outputs": [
        {
          "output_type": "stream",
          "name": "stderr",
          "text": [
            "Some weights of the model checkpoint at bert-base-uncased were not used when initializing BertForMaskedLM: ['bert.pooler.dense.bias', 'bert.pooler.dense.weight', 'cls.seq_relationship.bias', 'cls.seq_relationship.weight']\n",
            "- This IS expected if you are initializing BertForMaskedLM from the checkpoint of a model trained on another task or with another architecture (e.g. initializing a BertForSequenceClassification model from a BertForPreTraining model).\n",
            "- This IS NOT expected if you are initializing BertForMaskedLM from the checkpoint of a model that you expect to be exactly identical (initializing a BertForSequenceClassification model from a BertForSequenceClassification model).\n"
          ]
        }
      ]
    },
    {
      "cell_type": "code",
      "source": [
        "# Load a small corpus for distillation (e.g., WikiText)\n",
        "dataset = load_dataset('wikitext', 'wikitext-2-raw-v1', split='train')\n",
        "def tokenize_function(examples):\n",
        "    return tokenizer(\n",
        "      examples['text'],\n",
        "      truncation=True,\n",
        "      max_length=128,\n",
        "      padding='max_length',\n",
        "      return_special_tokens_mask=True\n",
        "    )\n",
        "\n",
        "tokenized = dataset.map(tokenize_function, batched=True, remove_columns=['text'])\n",
        "tokenized.set_format(type='torch', columns=['input_ids', 'attention_mask', 'special_tokens_mask'])\n"
      ],
      "metadata": {
        "id": "6BGvS1sEz5s0"
      },
      "execution_count": null,
      "outputs": []
    },
    {
      "cell_type": "code",
      "source": [
        "# Hyperparameters and DataLoader with dynamic masking\n",
        "epochs = 3\n",
        "micro_batch_size = 16\n",
        "gradient_accumulation_steps = 256\n",
        "data_collator = DataCollatorForLanguageModeling(tokenizer=tokenizer, mlm=True, mlm_probability=0.15)\n",
        "dataloader = DataLoader(tokenized, batch_size=micro_batch_size, shuffle=True, collate_fn=data_collator)\n",
        "total_steps = math.ceil(len(dataloader) * epochs / gradient_accumulation_steps)\n",
        "warmup_steps = int(0.1 * total_steps)\n",
        "optimizer = AdamW(student.parameters(), lr=5e-4, weight_decay=0.01)\n",
        "scheduler = get_linear_schedule_with_warmup(optimizer, num_warmup_steps=warmup_steps, num_training_steps=total_steps)"
      ],
      "metadata": {
        "id": "uz5vJCZWD-Am"
      },
      "execution_count": null,
      "outputs": []
    },
    {
      "cell_type": "code",
      "source": [
        "# Training loop with triple loss\n",
        "device = torch.device('cuda' if torch.cuda.is_available() else 'cpu')\n",
        "teacher.to(device).eval()\n",
        "student.to(device).train()\n",
        "global_step = 0\n",
        "for epoch in range(epochs):\n",
        "    loop = tqdm(dataloader, desc=f\"Epoch {epoch+1}/{epochs}\", unit='batch')\n",
        "    optimizer.zero_grad()\n",
        "    for step, batch in enumerate(loop):\n",
        "        inputs = batch['input_ids'].to(device)\n",
        "        masks = batch['attention_mask'].to(device)\n",
        "        labels = batch['labels'].to(device)\n",
        "        with torch.no_grad():\n",
        "            teacher_out = teacher(input_ids=inputs, attention_mask=masks, output_hidden_states=True)\n",
        "        student_out = student(input_ids=inputs, attention_mask=masks, output_hidden_states=True)\n",
        "        mlm_loss = F.cross_entropy(\n",
        "            student_out.logits.view(-1, student.config.vocab_size),\n",
        "            labels.view(-1),\n",
        "            ignore_index=-100\n",
        "        )\n",
        "        kd_loss = F.kl_div(F.log_softmax(student_out.logits/2, dim=-1), F.softmax(teacher_out.logits/2, dim=-1), reduction='batchmean') * 4\n",
        "        s_hid = student_out.hidden_states[-1][:,0,:]\n",
        "        t_hid = teacher_out.hidden_states[-1][:,0,:]\n",
        "        cos_loss = torch.nn.CosineEmbeddingLoss()(s_hid, t_hid, torch.ones(s_hid.size(0), device=device))\n",
        "        loss = (mlm_loss + kd_loss + cos_loss) / gradient_accumulation_steps\n",
        "        loss.backward()\n",
        "        if (step + 1) % gradient_accumulation_steps == 0 or (step + 1) == len(dataloader):\n",
        "            optimizer.step()\n",
        "            scheduler.step()\n",
        "            optimizer.zero_grad()\n",
        "            global_step += 1\n",
        "            loop.set_postfix(step=global_step, loss=loss.item())\n",
        "    print(f\"Epoch {epoch+1} done.\")\n"
      ],
      "metadata": {
        "id": "BTSKOE-9EPmw"
      },
      "execution_count": null,
      "outputs": []
    },
    {
      "cell_type": "code",
      "source": [],
      "metadata": {
        "id": "8aLRAQwY2Be0"
      },
      "execution_count": null,
      "outputs": []
    }
  ]
}